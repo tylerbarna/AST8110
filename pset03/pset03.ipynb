{
 "cells": [
  {
   "cell_type": "markdown",
   "metadata": {},
   "source": [
    "## Problem Set 03\n",
    "### AST 8110, Fall 2022\n",
    "##### Tyler Barna"
   ]
  },
  {
   "cell_type": "code",
   "execution_count": 1,
   "metadata": {},
   "outputs": [],
   "source": [
    "## Importing packages (some of these may not be useful)\n",
    "import numpy as np\n",
    "import matplotlib.pyplot as plt\n",
    "import pandas as pd\n",
    "import seaborn as sns\n",
    "import scipy.stats as stats\n",
    "import time\n",
    "#bigstart = time.time()\n",
    "#import numba\n",
    "\n",
    "import sys\n",
    "import os\n",
    "import astropy\n",
    "import astropy.units as u\n",
    "import astropy.constants as const\n",
    "import astropy.coordinates as coord\n",
    "import random\n",
    "\n",
    "from numpy.linalg import norm ## to calculate magnitude of vector\n",
    "\n",
    "from tqdm import tqdm\n",
    "from scipy.stats import binned_statistic as binstat\n",
    "from scipy.integrate import quad, dblquad ## to integrate\n",
    "\n",
    "## Set Seed\n",
    "random.seed(8110)\n"
   ]
  },
  {
   "cell_type": "markdown",
   "metadata": {},
   "source": [
    "All quantities below are assumed to be project on the plane of the sky.\n",
    "\n",
    "The mass distribution in the lens is assymmetric, centered on $(0,0)$, and its raidal density profile is given by\n",
    "\\begin{equation}\n",
    "\\kappa = \\kappa_{0} \\left( \\frac{|\\vec{\\theta}| + \\theta_{0}}{\\theta_{0}} \\right)^{m}\n",
    "\\end{equation}\n",
    "where $\\kappa_{0}=30$, $\\theta_{0}=1$, and $m=-3.2$. The profile is truncated at $\\theta_{max}=5$ such that $\\kappa(\\theta>\\theta_{max})=0$."
   ]
  },
  {
   "cell_type": "markdown",
   "metadata": {},
   "source": [
    "A source is placed on the positive $\\theta_{x}$ axis at $\\theta_{x}=\\beta=2$ from the origin. Because of symmetry, all images will be located on the $\\theta_{x}$ axis."
   ]
  },
  {
   "cell_type": "markdown",
   "metadata": {},
   "source": [
    "## (a) Time Delay Surface"
   ]
  },
  {
   "cell_type": "markdown",
   "metadata": {},
   "source": [
    "\\begin{equation}\n",
    "T\\left( \\theta_{x}\\right) \\propto\n",
    "\\frac{1}{2} \\left( \\theta_{x} - \\beta \\right)^{2}\n",
    "- \\frac{1}{\\pi} \\int \\text{d} \\theta_{x}^{\\prime} \\text{d} \\theta_{y}^{\\prime} \\kappa\\left( \\theta_{x}^{\\prime} , \\theta_{y}^{\\prime}  \\right)\n",
    "\\text{ln} \\sqrt{\\left( \\theta_{x} - \\theta_{x}^{\\prime} \\right)^{2} + \\left( \\theta_{y}^{\\prime} \\right)^{2}}\n",
    "\n",
    "\\end{equation}"
   ]
  },
  {
   "cell_type": "code",
   "execution_count": 2,
   "metadata": {},
   "outputs": [],
   "source": [
    "## define constants\n",
    "kappa_0 = 30\n",
    "theta_0 = 1\n",
    "theta_max = 5\n",
    "m = -3.2\n",
    "beta = 2"
   ]
  },
  {
   "cell_type": "code",
   "execution_count": 3,
   "metadata": {},
   "outputs": [],
   "source": [
    "\n",
    "\n",
    "## define radial density profile with x and y just being the components of the vector\n",
    "## norm just calculates the magnitude of the vector\n",
    "def rdp(x,y):\n",
    "    theta_vec = norm(np.array([x,y]))\n",
    "    if theta_vec < theta_max: \n",
    "        density = kappa_0 * ( ( theta_vec + theta_0)/(theta_0) )**m\n",
    "    else:\n",
    "        density = 0\n",
    "    return(density)\n",
    "\n",
    "## define integrand as a function of theta_x\n",
    "\n",
    "x_lim = (-theta_max,theta_max)\n",
    "y_lim = (-theta_max,theta_max)\n",
    "\n",
    "def integrand(theta_x):\n",
    "    return dblquad(lambda x,y: rdp(x,y) * np.log( np.sqrt((theta_x - x)**2 + y**2) ),\n",
    "                   x_lim[0], x_lim[1], \n",
    "                   lambda y: y_lim[0], lambda y: y_lim[1],\n",
    "                   epsrel=5)[0]\n",
    "\n",
    "\n",
    "## define function where theta_x is theta_x and x and y are the prime components of the integrand \n",
    "\n",
    "delay = lambda theta_x: 0.5 * (theta_x - beta)**2 - (1/np.pi) * integrand(theta_x)\n",
    "delay = np.vectorize(delay) ## vectorize the function so I can use it on arrays"
   ]
  },
  {
   "cell_type": "code",
   "execution_count": 4,
   "metadata": {},
   "outputs": [],
   "source": [
    "## define a linspace of theta_x values and calculate the time delay surface\n",
    "theta_space = np.linspace(-theta_max-1,theta_max+1,1000)\n",
    "tds = delay(theta_space)"
   ]
  },
  {
   "cell_type": "code",
   "execution_count": 5,
   "metadata": {},
   "outputs": [
    {
     "data": {
      "image/png": "[encoded data removed]",
      "text/plain": [
       "<Figure size 576x432 with 1 Axes>"
      ]
     },
     "metadata": {},
     "output_type": "display_data"
    }
   ],
   "source": [
    "## plot the delay function and identify the local maxima and minimas\n",
    "fig, ax = plt.subplots(figsize=(8,6),facecolor='w')\n",
    "ax.plot(theta_space, tds)\n",
    "ax.grid()\n",
    "ax.set_xlabel(r'$\\theta_x$')\n",
    "ax.set_ylabel(r'$T(\\theta_x)$')\n",
    "ax.set_title('Delay Function');  "
   ]
  },
  {
   "cell_type": "markdown",
   "metadata": {},
   "source": [
    "## (b) Lens Equation "
   ]
  },
  {
   "cell_type": "markdown",
   "metadata": {},
   "source": [
    "The lens equation can be written as\n",
    "\n",
    "\\begin{equation}\n",
    "\\vec{\\theta} - \\vec{\\beta} = \\vec{\\alpha}\n",
    "\\end{equation}\n",
    "\n",
    "where $\\vec{\\alpha}$ is the deflection angle. \n",
    "\n",
    "The magnitude of the deflection angle can be calculated as\n",
    "\n",
    "\\begin{equation}\n",
    "\\alpha = \\frac{M\\left( \\leq \\theta \\right)}{\\pi \\theta}\n",
    "\\end{equation}\n",
    "\n",
    "where $M\\left( \\leq \\theta \\right)$ is the mass enclosed within a radius $\\theta$ of the origin."
   ]
  },
  {
   "cell_type": "markdown",
   "metadata": {},
   "source": [
    "Because the area of a circle is $\\pi r^2$, the mass can effectively be written as\n",
    "\n",
    "\\begin{equation}\n",
    "M\\left( \\leq \\theta \\right) = \\pi \\theta^2 \\kappa\\left( \\theta \\right)  \n",
    "\\end{equation}\n",
    "\n",
    "\n"
   ]
  },
  {
   "cell_type": "markdown",
   "metadata": {},
   "source": [
    "Which means the angle of the deflection can be written as\n",
    "\n",
    "\\begin{equation}\n",
    "\\alpha \\left(\\theta \\right) = \\kappa\\left( \\theta \\right) \\times \\theta\n",
    "\\end{equation}"
   ]
  },
  {
   "cell_type": "markdown",
   "metadata": {},
   "source": [
    "Plotting\n",
    "\n",
    "(i) $\\theta - \\beta$ vs. $\\theta$ \n",
    "\n",
    "(ii) $\\alpha$ vs. $\\theta$"
   ]
  },
  {
   "cell_type": "code",
   "execution_count": 13,
   "metadata": {},
   "outputs": [],
   "source": [
    "## define rdp wrt magnitude of vector since we don't care about the components in this case\n",
    "def rdp_mag(theta):\n",
    "    if np.abs(theta) < theta_max: \n",
    "        density = kappa_0 * ( ( np.abs(theta) + theta_0)/(theta_0) )**m\n",
    "    else:\n",
    "        density = 0\n",
    "    return(density)\n",
    "\n",
    "## Integrate the radial density profile to get the total mass\n",
    "def mass(theta):\n",
    "    return quad(lambda theta: rdp_mag(theta), \n",
    "                0, theta,\n",
    "                epsrel=5)[0]  \n",
    "\n",
    "alpha = lambda theta: mass(theta) * theta\n",
    "alpha = np.vectorize(alpha) "
   ]
  },
  {
   "cell_type": "code",
   "execution_count": 14,
   "metadata": {},
   "outputs": [
    {
     "data": {
      "image/png": "[encoded data removed]",
      "text/plain": [
       "<Figure size 576x432 with 1 Axes>"
      ]
     },
     "metadata": {
      "needs_background": "light"
     },
     "output_type": "display_data"
    }
   ],
   "source": [
    "## plot theta - beta vs theta\n",
    "fig, ax = plt.subplots(figsize=(8,6))\n",
    "ax.plot(theta_space, theta_space - beta, label=r'$\\theta - \\beta$')\n",
    "ax.plot(theta_space, alpha(theta_space), label=r'$\\alpha(\\theta)$')\n",
    "ax.plot(theta_space, tds, label='Time Delay Surface (T)')\n",
    "\n",
    "## general plot settings\n",
    "ax.grid()\n",
    "ax.set_xlabel(r'$\\theta$');\n",
    "ax.legend()\n",
    "plt.show();"
   ]
  },
  {
   "cell_type": "markdown",
   "metadata": {},
   "source": []
  }
 ],
 "metadata": {
  "kernelspec": {
   "display_name": "Python 3.9.12 ('base')",
   "language": "python",
   "name": "python3"
  },
  "language_info": {
   "codemirror_mode": {
    "name": "ipython",
    "version": 3
   },
   "file_extension": ".py",
   "mimetype": "text/x-python",
   "name": "python",
   "nbconvert_exporter": "python",
   "pygments_lexer": "ipython3",
   "version": "3.9.13"
  },
  "orig_nbformat": 4,
  "vscode": {
   "interpreter": {
    "hash": "33e29ac6173c1f14126815b0649af3201190059c691e9f120f2bf408a19998c9"
   }
  }
 },
 "nbformat": 4,
 "nbformat_minor": 2
}
