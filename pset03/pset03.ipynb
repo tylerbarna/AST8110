{
 "cells": [
  {
   "cell_type": "markdown",
   "metadata": {},
   "source": [
    "## Problem Set 03\n",
    "### AST 8110, Fall 2022\n",
    "##### Tyler Barna"
   ]
  },
  {
   "cell_type": "code",
   "execution_count": 2,
   "metadata": {},
   "outputs": [],
   "source": [
    "## Importing packages (some of these may not be useful)\n",
    "import numpy as np\n",
    "import matplotlib.pyplot as plt\n",
    "import pandas as pd\n",
    "import seaborn as sns\n",
    "import scipy.stats as stats\n",
    "import time\n",
    "#bigstart = time.time()\n",
    "#import numba\n",
    "\n",
    "import sys\n",
    "import os\n",
    "import astropy\n",
    "import astropy.units as u\n",
    "import astropy.constants as const\n",
    "import astropy.coordinates as coord\n",
    "import random\n",
    "\n",
    "from numpy.linalg import norm ## to calculate magnitude of vector\n",
    "\n",
    "from tqdm import tqdm\n",
    "from scipy.stats import binned_statistic as binstat\n",
    "from scipy.integrate import quad, dblquad ## to integrate\n",
    "\n",
    "## Set Seed\n",
    "random.seed(8110)\n"
   ]
  },
  {
   "cell_type": "markdown",
   "metadata": {},
   "source": [
    "All quantities below are assumed to be project on the plane of the sky.\n",
    "\n",
    "The mass distribution in the lens is assymmetric, centered on $(0,0)$, and its raidal density profile is given by\n",
    "\\begin{equation}\n",
    "\\kappa = \\kappa_{0} \\left( \\frac{|\\vec{\\theta}| + \\theta_{0}}{\\theta_{0}} \\right)^{m}\n",
    "\\end{equation}\n",
    "where $\\kappa_{0}=30$, $\\theta_{0}=1$, and $m=-3.2$. The profile is truncated at $\\theta_{max}=5$ such that $\\kappa(\\theta>\\theta_{max})=0$."
   ]
  },
  {
   "cell_type": "markdown",
   "metadata": {},
   "source": [
    "A source is placed on the positive $\\theta_{x}$ axis at $\\theta_{x}=\\beta=2$ from the origin. Because of symmetry, all images will be located on the $\\theta_{x}$ axis."
   ]
  },
  {
   "cell_type": "markdown",
   "metadata": {},
   "source": [
    "## (a) Time Delay Surface"
   ]
  },
  {
   "cell_type": "markdown",
   "metadata": {},
   "source": [
    "\\begin{equation}\n",
    "T\\left( \\theta_{x}\\right) \\propto\n",
    "\\frac{1}{2} \\left( \\theta_{x} - \\beta \\right)^{2}\n",
    "- \\frac{1}{\\pi} \\int \\text{d} \\theta_{x}^{\\prime} \\text{d} \\theta_{y}^{\\prime} \\kappa\\left( \\theta_{x}^{\\prime} , \\theta_{y}^{\\prime}  \\right)\n",
    "\\text{ln} \\sqrt{\\left( \\theta_{x} - \\theta_{x}^{\\prime} \\right)^{2} + \\left( \\theta_{y}^{\\prime} \\right)^{2}}\n",
    "\n",
    "\\end{equation}"
   ]
  },
  {
   "cell_type": "code",
   "execution_count": 6,
   "metadata": {},
   "outputs": [
    {
     "ename": "TypeError",
     "evalue": "only size-1 arrays can be converted to Python scalars",
     "output_type": "error",
     "traceback": [
      "\u001b[0;31m---------------------------------------------------------------------------\u001b[0m",
      "\u001b[0;31mTypeError\u001b[0m                                 Traceback (most recent call last)",
      "\u001b[1;32m/mnt/g/My Drive/Academics/Grad School/2022-2023/Semester 1/AST 8110 Structure Formation and Gravitational Lensing/Homework/pset03/pset03.ipynb Cell 7\u001b[0m in \u001b[0;36m<cell line: 26>\u001b[0;34m()\u001b[0m\n\u001b[1;32m     <a href='vscode-notebook-cell://wsl%2Bubuntu/mnt/g/My%20Drive/Academics/Grad%20School/2022-2023/Semester%201/AST%208110%20Structure%20Formation%20and%20Gravitational%20Lensing/Homework/pset03/pset03.ipynb#X16sdnNjb2RlLXJlbW90ZQ%3D%3D?line=23'>24</a>\u001b[0m \u001b[39m## define a linspace of theta_x values and then plot the delay function\u001b[39;00m\n\u001b[1;32m     <a href='vscode-notebook-cell://wsl%2Bubuntu/mnt/g/My%20Drive/Academics/Grad%20School/2022-2023/Semester%201/AST%208110%20Structure%20Formation%20and%20Gravitational%20Lensing/Homework/pset03/pset03.ipynb#X16sdnNjb2RlLXJlbW90ZQ%3D%3D?line=24'>25</a>\u001b[0m theta_x \u001b[39m=\u001b[39m np\u001b[39m.\u001b[39mlinspace(\u001b[39m0\u001b[39m,\u001b[39m10\u001b[39m,\u001b[39m1000\u001b[39m)\n\u001b[0;32m---> <a href='vscode-notebook-cell://wsl%2Bubuntu/mnt/g/My%20Drive/Academics/Grad%20School/2022-2023/Semester%201/AST%208110%20Structure%20Formation%20and%20Gravitational%20Lensing/Homework/pset03/pset03.ipynb#X16sdnNjb2RlLXJlbW90ZQ%3D%3D?line=25'>26</a>\u001b[0m plt\u001b[39m.\u001b[39mplot(theta_x, delay(theta_x))\n",
      "\u001b[1;32m/mnt/g/My Drive/Academics/Grad School/2022-2023/Semester 1/AST 8110 Structure Formation and Gravitational Lensing/Homework/pset03/pset03.ipynb Cell 7\u001b[0m in \u001b[0;36m<lambda>\u001b[0;34m(theta_x)\u001b[0m\n\u001b[1;32m     <a href='vscode-notebook-cell://wsl%2Bubuntu/mnt/g/My%20Drive/Academics/Grad%20School/2022-2023/Semester%201/AST%208110%20Structure%20Formation%20and%20Gravitational%20Lensing/Homework/pset03/pset03.ipynb#X16sdnNjb2RlLXJlbW90ZQ%3D%3D?line=16'>17</a>\u001b[0m     \u001b[39mreturn\u001b[39;00m dblquad(\u001b[39mlambda\u001b[39;00m x,y: rdp(x,y) \u001b[39m*\u001b[39m np\u001b[39m.\u001b[39mlog( (theta_x \u001b[39m-\u001b[39m x)\u001b[39m*\u001b[39m\u001b[39m*\u001b[39m\u001b[39m2\u001b[39m \u001b[39m+\u001b[39m y\u001b[39m*\u001b[39m\u001b[39m*\u001b[39m\u001b[39m2\u001b[39m ),\n\u001b[1;32m     <a href='vscode-notebook-cell://wsl%2Bubuntu/mnt/g/My%20Drive/Academics/Grad%20School/2022-2023/Semester%201/AST%208110%20Structure%20Formation%20and%20Gravitational%20Lensing/Homework/pset03/pset03.ipynb#X16sdnNjb2RlLXJlbW90ZQ%3D%3D?line=17'>18</a>\u001b[0m                    x_lim[\u001b[39m0\u001b[39m], x_lim[\u001b[39m1\u001b[39m], \u001b[39mlambda\u001b[39;00m x: y_lim[\u001b[39m0\u001b[39m], \u001b[39mlambda\u001b[39;00m x: y_lim[\u001b[39m1\u001b[39m])[\u001b[39m0\u001b[39m]\n\u001b[1;32m     <a href='vscode-notebook-cell://wsl%2Bubuntu/mnt/g/My%20Drive/Academics/Grad%20School/2022-2023/Semester%201/AST%208110%20Structure%20Formation%20and%20Gravitational%20Lensing/Homework/pset03/pset03.ipynb#X16sdnNjb2RlLXJlbW90ZQ%3D%3D?line=19'>20</a>\u001b[0m \u001b[39m## define function where theta_x is theta_x and x and y are the prime components of the integrand \u001b[39;00m\n\u001b[0;32m---> <a href='vscode-notebook-cell://wsl%2Bubuntu/mnt/g/My%20Drive/Academics/Grad%20School/2022-2023/Semester%201/AST%208110%20Structure%20Formation%20and%20Gravitational%20Lensing/Homework/pset03/pset03.ipynb#X16sdnNjb2RlLXJlbW90ZQ%3D%3D?line=21'>22</a>\u001b[0m delay \u001b[39m=\u001b[39m \u001b[39mlambda\u001b[39;00m theta_x: \u001b[39m0.5\u001b[39m \u001b[39m*\u001b[39m (theta_x \u001b[39m-\u001b[39m beta)\u001b[39m*\u001b[39m\u001b[39m*\u001b[39m\u001b[39m2\u001b[39m \u001b[39m-\u001b[39m (\u001b[39m1\u001b[39m\u001b[39m/\u001b[39mnp\u001b[39m.\u001b[39mpi) \u001b[39m*\u001b[39m integrand(theta_x)\n\u001b[1;32m     <a href='vscode-notebook-cell://wsl%2Bubuntu/mnt/g/My%20Drive/Academics/Grad%20School/2022-2023/Semester%201/AST%208110%20Structure%20Formation%20and%20Gravitational%20Lensing/Homework/pset03/pset03.ipynb#X16sdnNjb2RlLXJlbW90ZQ%3D%3D?line=23'>24</a>\u001b[0m \u001b[39m## define a linspace of theta_x values and then plot the delay function\u001b[39;00m\n\u001b[1;32m     <a href='vscode-notebook-cell://wsl%2Bubuntu/mnt/g/My%20Drive/Academics/Grad%20School/2022-2023/Semester%201/AST%208110%20Structure%20Formation%20and%20Gravitational%20Lensing/Homework/pset03/pset03.ipynb#X16sdnNjb2RlLXJlbW90ZQ%3D%3D?line=24'>25</a>\u001b[0m theta_x \u001b[39m=\u001b[39m np\u001b[39m.\u001b[39mlinspace(\u001b[39m0\u001b[39m,\u001b[39m10\u001b[39m,\u001b[39m1000\u001b[39m)\n",
      "\u001b[1;32m/mnt/g/My Drive/Academics/Grad School/2022-2023/Semester 1/AST 8110 Structure Formation and Gravitational Lensing/Homework/pset03/pset03.ipynb Cell 7\u001b[0m in \u001b[0;36mintegrand\u001b[0;34m(theta_x)\u001b[0m\n\u001b[1;32m     <a href='vscode-notebook-cell://wsl%2Bubuntu/mnt/g/My%20Drive/Academics/Grad%20School/2022-2023/Semester%201/AST%208110%20Structure%20Formation%20and%20Gravitational%20Lensing/Homework/pset03/pset03.ipynb#X16sdnNjb2RlLXJlbW90ZQ%3D%3D?line=15'>16</a>\u001b[0m \u001b[39mdef\u001b[39;00m \u001b[39mintegrand\u001b[39m(theta_x):\n\u001b[0;32m---> <a href='vscode-notebook-cell://wsl%2Bubuntu/mnt/g/My%20Drive/Academics/Grad%20School/2022-2023/Semester%201/AST%208110%20Structure%20Formation%20and%20Gravitational%20Lensing/Homework/pset03/pset03.ipynb#X16sdnNjb2RlLXJlbW90ZQ%3D%3D?line=16'>17</a>\u001b[0m     \u001b[39mreturn\u001b[39;00m dblquad(\u001b[39mlambda\u001b[39;49;00m x,y: rdp(x,y) \u001b[39m*\u001b[39;49m np\u001b[39m.\u001b[39;49mlog( (theta_x \u001b[39m-\u001b[39;49m x)\u001b[39m*\u001b[39;49m\u001b[39m*\u001b[39;49m\u001b[39m2\u001b[39;49m \u001b[39m+\u001b[39;49m y\u001b[39m*\u001b[39;49m\u001b[39m*\u001b[39;49m\u001b[39m2\u001b[39;49m ),\n\u001b[1;32m     <a href='vscode-notebook-cell://wsl%2Bubuntu/mnt/g/My%20Drive/Academics/Grad%20School/2022-2023/Semester%201/AST%208110%20Structure%20Formation%20and%20Gravitational%20Lensing/Homework/pset03/pset03.ipynb#X16sdnNjb2RlLXJlbW90ZQ%3D%3D?line=17'>18</a>\u001b[0m                    x_lim[\u001b[39m0\u001b[39;49m], x_lim[\u001b[39m1\u001b[39;49m], \u001b[39mlambda\u001b[39;49;00m x: y_lim[\u001b[39m0\u001b[39;49m], \u001b[39mlambda\u001b[39;49;00m x: y_lim[\u001b[39m1\u001b[39;49m])[\u001b[39m0\u001b[39m]\n",
      "File \u001b[0;32m~/anaconda3/lib/python3.9/site-packages/scipy/integrate/_quadpack_py.py:709\u001b[0m, in \u001b[0;36mdblquad\u001b[0;34m(func, a, b, gfun, hfun, args, epsabs, epsrel)\u001b[0m\n\u001b[1;32m    705\u001b[0m \u001b[39mdef\u001b[39;00m \u001b[39mtemp_ranges\u001b[39m(\u001b[39m*\u001b[39margs):\n\u001b[1;32m    706\u001b[0m     \u001b[39mreturn\u001b[39;00m [gfun(args[\u001b[39m0\u001b[39m]) \u001b[39mif\u001b[39;00m callable(gfun) \u001b[39melse\u001b[39;00m gfun,\n\u001b[1;32m    707\u001b[0m             hfun(args[\u001b[39m0\u001b[39m]) \u001b[39mif\u001b[39;00m callable(hfun) \u001b[39melse\u001b[39;00m hfun]\n\u001b[0;32m--> 709\u001b[0m \u001b[39mreturn\u001b[39;00m nquad(func, [temp_ranges, [a, b]], args\u001b[39m=\u001b[39;49margs,\n\u001b[1;32m    710\u001b[0m         opts\u001b[39m=\u001b[39;49m{\u001b[39m\"\u001b[39;49m\u001b[39mepsabs\u001b[39;49m\u001b[39m\"\u001b[39;49m: epsabs, \u001b[39m\"\u001b[39;49m\u001b[39mepsrel\u001b[39;49m\u001b[39m\"\u001b[39;49m: epsrel})\n",
      "File \u001b[0;32m~/anaconda3/lib/python3.9/site-packages/scipy/integrate/_quadpack_py.py:1097\u001b[0m, in \u001b[0;36mnquad\u001b[0;34m(func, ranges, args, opts, full_output)\u001b[0m\n\u001b[1;32m   1095\u001b[0m \u001b[39melse\u001b[39;00m:\n\u001b[1;32m   1096\u001b[0m     opts \u001b[39m=\u001b[39m [opt \u001b[39mif\u001b[39;00m callable(opt) \u001b[39melse\u001b[39;00m _OptFunc(opt) \u001b[39mfor\u001b[39;00m opt \u001b[39min\u001b[39;00m opts]\n\u001b[0;32m-> 1097\u001b[0m \u001b[39mreturn\u001b[39;00m _NQuad(func, ranges, opts, full_output)\u001b[39m.\u001b[39;49mintegrate(\u001b[39m*\u001b[39;49margs)\n",
      "File \u001b[0;32m~/anaconda3/lib/python3.9/site-packages/scipy/integrate/_quadpack_py.py:1151\u001b[0m, in \u001b[0;36m_NQuad.integrate\u001b[0;34m(self, *args, **kwargs)\u001b[0m\n\u001b[1;32m   1149\u001b[0m \u001b[39melse\u001b[39;00m:\n\u001b[1;32m   1150\u001b[0m     f \u001b[39m=\u001b[39m partial(\u001b[39mself\u001b[39m\u001b[39m.\u001b[39mintegrate, depth\u001b[39m=\u001b[39mdepth\u001b[39m+\u001b[39m\u001b[39m1\u001b[39m)\n\u001b[0;32m-> 1151\u001b[0m quad_r \u001b[39m=\u001b[39m quad(f, low, high, args\u001b[39m=\u001b[39;49margs, full_output\u001b[39m=\u001b[39;49m\u001b[39mself\u001b[39;49m\u001b[39m.\u001b[39;49mfull_output,\n\u001b[1;32m   1152\u001b[0m               \u001b[39m*\u001b[39;49m\u001b[39m*\u001b[39;49mopt)\n\u001b[1;32m   1153\u001b[0m value \u001b[39m=\u001b[39m quad_r[\u001b[39m0\u001b[39m]\n\u001b[1;32m   1154\u001b[0m abserr \u001b[39m=\u001b[39m quad_r[\u001b[39m1\u001b[39m]\n",
      "File \u001b[0;32m~/anaconda3/lib/python3.9/site-packages/scipy/integrate/_quadpack_py.py:411\u001b[0m, in \u001b[0;36mquad\u001b[0;34m(func, a, b, args, full_output, epsabs, epsrel, limit, points, weight, wvar, wopts, maxp1, limlst)\u001b[0m\n\u001b[1;32m    408\u001b[0m flip, a, b \u001b[39m=\u001b[39m b \u001b[39m<\u001b[39m a, \u001b[39mmin\u001b[39m(a, b), \u001b[39mmax\u001b[39m(a, b)\n\u001b[1;32m    410\u001b[0m \u001b[39mif\u001b[39;00m weight \u001b[39mis\u001b[39;00m \u001b[39mNone\u001b[39;00m:\n\u001b[0;32m--> 411\u001b[0m     retval \u001b[39m=\u001b[39m _quad(func, a, b, args, full_output, epsabs, epsrel, limit,\n\u001b[1;32m    412\u001b[0m                    points)\n\u001b[1;32m    413\u001b[0m \u001b[39melse\u001b[39;00m:\n\u001b[1;32m    414\u001b[0m     \u001b[39mif\u001b[39;00m points \u001b[39mis\u001b[39;00m \u001b[39mnot\u001b[39;00m \u001b[39mNone\u001b[39;00m:\n",
      "File \u001b[0;32m~/anaconda3/lib/python3.9/site-packages/scipy/integrate/_quadpack_py.py:525\u001b[0m, in \u001b[0;36m_quad\u001b[0;34m(func, a, b, args, full_output, epsabs, epsrel, limit, points)\u001b[0m\n\u001b[1;32m    523\u001b[0m         \u001b[39mreturn\u001b[39;00m _quadpack\u001b[39m.\u001b[39m_qagse(func,a,b,args,full_output,epsabs,epsrel,limit)\n\u001b[1;32m    524\u001b[0m     \u001b[39melse\u001b[39;00m:\n\u001b[0;32m--> 525\u001b[0m         \u001b[39mreturn\u001b[39;00m _quadpack\u001b[39m.\u001b[39;49m_qagie(func,bound,infbounds,args,full_output,epsabs,epsrel,limit)\n\u001b[1;32m    526\u001b[0m \u001b[39melse\u001b[39;00m:\n\u001b[1;32m    527\u001b[0m     \u001b[39mif\u001b[39;00m infbounds \u001b[39m!=\u001b[39m \u001b[39m0\u001b[39m:\n",
      "File \u001b[0;32m~/anaconda3/lib/python3.9/site-packages/scipy/integrate/_quadpack_py.py:1151\u001b[0m, in \u001b[0;36m_NQuad.integrate\u001b[0;34m(self, *args, **kwargs)\u001b[0m\n\u001b[1;32m   1149\u001b[0m \u001b[39melse\u001b[39;00m:\n\u001b[1;32m   1150\u001b[0m     f \u001b[39m=\u001b[39m partial(\u001b[39mself\u001b[39m\u001b[39m.\u001b[39mintegrate, depth\u001b[39m=\u001b[39mdepth\u001b[39m+\u001b[39m\u001b[39m1\u001b[39m)\n\u001b[0;32m-> 1151\u001b[0m quad_r \u001b[39m=\u001b[39m quad(f, low, high, args\u001b[39m=\u001b[39;49margs, full_output\u001b[39m=\u001b[39;49m\u001b[39mself\u001b[39;49m\u001b[39m.\u001b[39;49mfull_output,\n\u001b[1;32m   1152\u001b[0m               \u001b[39m*\u001b[39;49m\u001b[39m*\u001b[39;49mopt)\n\u001b[1;32m   1153\u001b[0m value \u001b[39m=\u001b[39m quad_r[\u001b[39m0\u001b[39m]\n\u001b[1;32m   1154\u001b[0m abserr \u001b[39m=\u001b[39m quad_r[\u001b[39m1\u001b[39m]\n",
      "File \u001b[0;32m~/anaconda3/lib/python3.9/site-packages/scipy/integrate/_quadpack_py.py:411\u001b[0m, in \u001b[0;36mquad\u001b[0;34m(func, a, b, args, full_output, epsabs, epsrel, limit, points, weight, wvar, wopts, maxp1, limlst)\u001b[0m\n\u001b[1;32m    408\u001b[0m flip, a, b \u001b[39m=\u001b[39m b \u001b[39m<\u001b[39m a, \u001b[39mmin\u001b[39m(a, b), \u001b[39mmax\u001b[39m(a, b)\n\u001b[1;32m    410\u001b[0m \u001b[39mif\u001b[39;00m weight \u001b[39mis\u001b[39;00m \u001b[39mNone\u001b[39;00m:\n\u001b[0;32m--> 411\u001b[0m     retval \u001b[39m=\u001b[39m _quad(func, a, b, args, full_output, epsabs, epsrel, limit,\n\u001b[1;32m    412\u001b[0m                    points)\n\u001b[1;32m    413\u001b[0m \u001b[39melse\u001b[39;00m:\n\u001b[1;32m    414\u001b[0m     \u001b[39mif\u001b[39;00m points \u001b[39mis\u001b[39;00m \u001b[39mnot\u001b[39;00m \u001b[39mNone\u001b[39;00m:\n",
      "File \u001b[0;32m~/anaconda3/lib/python3.9/site-packages/scipy/integrate/_quadpack_py.py:525\u001b[0m, in \u001b[0;36m_quad\u001b[0;34m(func, a, b, args, full_output, epsabs, epsrel, limit, points)\u001b[0m\n\u001b[1;32m    523\u001b[0m         \u001b[39mreturn\u001b[39;00m _quadpack\u001b[39m.\u001b[39m_qagse(func,a,b,args,full_output,epsabs,epsrel,limit)\n\u001b[1;32m    524\u001b[0m     \u001b[39melse\u001b[39;00m:\n\u001b[0;32m--> 525\u001b[0m         \u001b[39mreturn\u001b[39;00m _quadpack\u001b[39m.\u001b[39;49m_qagie(func,bound,infbounds,args,full_output,epsabs,epsrel,limit)\n\u001b[1;32m    526\u001b[0m \u001b[39melse\u001b[39;00m:\n\u001b[1;32m    527\u001b[0m     \u001b[39mif\u001b[39;00m infbounds \u001b[39m!=\u001b[39m \u001b[39m0\u001b[39m:\n",
      "\u001b[0;31mTypeError\u001b[0m: only size-1 arrays can be converted to Python scalars"
     ]
    }
   ],
   "source": [
    "## define constants\n",
    "kappa_0 = 30\n",
    "theta_0 = 1\n",
    "theta_max = 5\n",
    "m = -3.2\n",
    "beta = 2\n",
    "\n",
    "## define radial density profile with x and y just being the components of the vector\n",
    "## norm just calculates the magnitude of the vector\n",
    "rdp = lambda x,y: kappa_0 * ( (norm((x,y)) + theta_0)/(theta_0) )**m if x < theta_max else 0\n",
    "\n",
    "## define integrand as a function of theta_x\n",
    "x_lim = (0,np.inf)\n",
    "y_lim = (0,np.inf)\n",
    "\n",
    "def integrand(theta_x):\n",
    "    return dblquad(lambda x,y: rdp(x,y) * np.log( (theta_x - x)**2 + y**2 ),\n",
    "                   x_lim[0], x_lim[1], lambda x: y_lim[0], lambda x: y_lim[1])[0]\n",
    "\n",
    "## define function where theta_x is theta_x and x and y are the prime components of the integrand \n",
    "\n",
    "delay = lambda theta_x: 0.5 * (theta_x - beta)**2 - (1/np.pi) * integrand(theta_x)\n",
    "\n",
    "## define a linspace of theta_x values and then plot the delay function\n",
    "theta_x = np.linspace(0,10,1000)\n",
    "plt.plot(theta_x, delay(theta_x))"
   ]
  },
  {
   "cell_type": "markdown",
   "metadata": {},
   "source": [
    "## (b) Lens Equation "
   ]
  },
  {
   "cell_type": "markdown",
   "metadata": {},
   "source": [
    "The lens equation can be written as\n",
    "\n",
    "\\begin{equation}\n",
    "\\vec{\\theta} - \\vec{\\beta} = \\vec{\\alpha}\n",
    "\\end{equation}\n",
    "\n",
    "where $\\vec{\\alpha}$ is the deflection angle. \n",
    "\n",
    "The magnitude of the deflection angle can be calculated as\n",
    "\n",
    "\\begin{equation}\n",
    "\\alpha = \\frac{M\\left( \\leq \\theta \\right)}{\\pi \\theta}\n",
    "\\end{equation}\n",
    "\n",
    "where $M\\left( \\leq \\theta \\right)$ is the mass enclosed within a radius $\\theta$ of the origin."
   ]
  },
  {
   "cell_type": "markdown",
   "metadata": {},
   "source": [
    "Plotting\n",
    "\n",
    "(i) $\\theta - \\beta$ vs. $\\theta$ \n",
    "\n",
    "(ii) $\\alpha$ vs. $\\theta$"
   ]
  },
  {
   "cell_type": "code",
   "execution_count": null,
   "metadata": {},
   "outputs": [],
   "source": []
  },
  {
   "cell_type": "markdown",
   "metadata": {},
   "source": []
  }
 ],
 "metadata": {
  "kernelspec": {
   "display_name": "Python 3.9.12 ('base')",
   "language": "python",
   "name": "python3"
  },
  "language_info": {
   "codemirror_mode": {
    "name": "ipython",
    "version": 3
   },
   "file_extension": ".py",
   "mimetype": "text/x-python",
   "name": "python",
   "nbconvert_exporter": "python",
   "pygments_lexer": "ipython3",
   "version": "3.9.13"
  },
  "orig_nbformat": 4,
  "vscode": {
   "interpreter": {
    "hash": "33e29ac6173c1f14126815b0649af3201190059c691e9f120f2bf408a19998c9"
   }
  }
 },
 "nbformat": 4,
 "nbformat_minor": 2
}
