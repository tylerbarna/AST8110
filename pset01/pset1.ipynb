{
 "cells": [
  {
   "cell_type": "markdown",
   "metadata": {},
   "source": [
    "## Problem Set 01\n",
    "### AST 8110, Fall 2022\n",
    "#### Tyler Barna"
   ]
  },
  {
   "cell_type": "code",
   "execution_count": 1,
   "metadata": {},
   "outputs": [],
   "source": [
    "## Importing packages (some of these may not be useful)\n",
    "import numpy as np\n",
    "import matplotlib.pyplot as plt\n",
    "import pandas as pd\n",
    "import seaborn as sns\n",
    "import scipy.stats as stats\n",
    "import numba\n",
    "import time\n",
    "import sys\n",
    "import os\n",
    "import astropy\n",
    "import astropy.units as u\n",
    "import astropy.constants as const\n",
    "import astropy.coordinates as coord\n",
    "import random\n",
    "from tqdm import tqdm\n",
    "from numba import jit\n",
    "\n",
    "## Set Seed\n",
    "random.seed(8110)"
   ]
  },
  {
   "cell_type": "code",
   "execution_count": 2,
   "metadata": {},
   "outputs": [
    {
     "name": "stdout",
     "output_type": "stream",
     "text": [
      "[[ 17.972 -75.784]\n",
      " [-74.421  29.004]\n",
      " [ 79.038 -78.432]\n",
      " ...\n",
      " [ 61.379 -39.951]\n",
      " [-83.112  29.521]\n",
      " [-19.634  30.982]]\n"
     ]
    },
    {
     "data": {
      "image/png": "[encoded data removed]",
      "text/plain": [
       "<Figure size 360x360 with 1 Axes>"
      ]
     },
     "metadata": {
      "needs_background": "light"
     },
     "output_type": "display_data"
    }
   ],
   "source": [
    "## read in data\n",
    "data = np.loadtxt('pset1data.txt')\n",
    "print(data)\n",
    "\n",
    "## plot data\n",
    "fig, ax = plt.figure(figsize=(5,5)), plt.gca()\n",
    "ax.minorticks_on(  )\n",
    "ax.tick_params(axis='both', which='major',direction='in',top=True,right=True,length=10,width=1)\n",
    "ax.tick_params(axis='both', which='minor',direction='in',top=True,right=True, length=5,width=1)\n",
    "ax.plot(data[:,0],data[:,1],'.',markersize=2,color='black');\n",
    "plt.xlim(-90,90);\n",
    "plt.ylim(-90,90);\n",
    "plt.xlabel('x');\n",
    "plt.ylabel('y');\n",
    "plt.show();"
   ]
  },
  {
   "cell_type": "code",
   "execution_count": 3,
   "metadata": {},
   "outputs": [],
   "source": [
    "## Generate Random galaxy positions\n",
    "def gen_galaxy_positions(N=10000,pkl=False,save=False):\n",
    "    \"\"\"\n",
    "    Generates N random galaxy positions\n",
    "    \"\"\"\n",
    "    if pkl:\n",
    "        data = pd.read_pickle(pkl)\n",
    "        return data\n",
    "    else:\n",
    "        x = np.random.uniform(-90,80,N)\n",
    "        y = np.random.uniform(-80,90,N)\n",
    "        data = np.column_stack((x,y))\n",
    "        if save:\n",
    "            pd.to_pickle(data, save)\n",
    "        return data\n"
   ]
  },
  {
   "cell_type": "code",
   "execution_count": 5,
   "metadata": {},
   "outputs": [],
   "source": [
    "## import random galaxy positions previously generated\n",
    "randGalaxies = gen_galaxy_positions(N=10000,pkl='random_galaxy_positions.pkl')"
   ]
  },
  {
   "cell_type": "code",
   "execution_count": 6,
   "metadata": {},
   "outputs": [],
   "source": [
    "## get distances\n",
    "def get_dist(type='dd',pkl=False,save=False):\n",
    "    if pkl:\n",
    "        dist = pd.read_pickle(pkl)\n",
    "        return dist\n",
    "    elif type == 'dd' or 'DD':\n",
    "        d1 = data \n",
    "        d2 = data\n",
    "    elif type=='rr' or 'RR':\n",
    "        d1 = randGalaxies\n",
    "        d2 = randGalaxies\n",
    "    elif type == 'dr' or 'DR':\n",
    "        d1 = data\n",
    "        d2 = randGalaxies\n",
    "    dist = [np.linalg.norm(item-d2,axis=1) for item in d1]\n",
    "    if save:\n",
    "        pd.to_pickle(dist, save)\n",
    "    return dist"
   ]
  },
  {
   "cell_type": "code",
   "execution_count": null,
   "metadata": {},
   "outputs": [],
   "source": []
  }
 ],
 "metadata": {
  "kernelspec": {
   "display_name": "Python 3.9.12 ('base')",
   "language": "python",
   "name": "python3"
  },
  "language_info": {
   "codemirror_mode": {
    "name": "ipython",
    "version": 3
   },
   "file_extension": ".py",
   "mimetype": "text/x-python",
   "name": "python",
   "nbconvert_exporter": "python",
   "pygments_lexer": "ipython3",
   "version": "3.9.12"
  },
  "orig_nbformat": 4,
  "vscode": {
   "interpreter": {
    "hash": "33e29ac6173c1f14126815b0649af3201190059c691e9f120f2bf408a19998c9"
   }
  }
 },
 "nbformat": 4,
 "nbformat_minor": 2
}
