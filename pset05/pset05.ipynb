{
 "cells": [
  {
   "cell_type": "markdown",
   "metadata": {},
   "source": [
    "## Problem Set 05\n",
    "### AST 8110, Fall 2022\n",
    "##### Tyler Barna"
   ]
  },
  {
   "cell_type": "code",
   "execution_count": 4,
   "metadata": {},
   "outputs": [],
   "source": [
    "## Importing packages (some of these may not be useful)\n",
    "import numpy as np\n",
    "import matplotlib.pyplot as plt\n",
    "import matplotlib.colors as colors\n",
    "import pandas as pd\n",
    "import seaborn as sns\n",
    "import scipy.stats as stats\n",
    "import time\n",
    "#bigstart = time.time()\n",
    "\n",
    "\n",
    "import sys\n",
    "import os\n",
    "import astropy\n",
    "import astropy.units as u\n",
    "import astropy.constants as const\n",
    "import astropy.coordinates as coord\n",
    "import random\n",
    "\n",
    "from matplotlib.ticker import MaxNLocator\n",
    "from matplotlib import cm\n",
    "from mpl_toolkits.mplot3d import Axes3D\n",
    "\n",
    "from numpy.linalg import norm ## to calculate magnitude of vector\n",
    "\n",
    "from tqdm import tqdm\n",
    "from scipy import meshgrid\n",
    "from scipy.stats import binned_statistic as binstat\n",
    "from scipy.integrate import quad, dblquad ## to integrate\n",
    "from scipy.signal import argrelextrema as extrema \n",
    "\n",
    "\n",
    "## Set Seed\n",
    "random.seed(8110)"
   ]
  },
  {
   "cell_type": "markdown",
   "metadata": {},
   "source": [
    "### Problem 1"
   ]
  },
  {
   "cell_type": "markdown",
   "metadata": {},
   "source": [
    "From class, we know that the absolute magnification is given by\n",
    "\n",
    "$$\n",
    "\\begin{equation}\n",
    "J = \\left(A_1 + A_2\\right) I = \\frac{u^2 +2}{u\\left( u^2 + 4\\right)^{1/2}} I\n",
    "\\end{equation}\n",
    "$$\n",
    "\n",
    "for $u=\\frac{r_0}{R_0}$, where $r_0$ is the radius of the circular source and $R_0$ is the Einstein radius. $b$ is the distance of closest approach between the source and the lens. In problem one, $I=1$, so the magnification becomes simply\n",
    "$$\n",
    "\\begin{equation}\n",
    "J = \\frac{u^2 +2}{u\\left( u^2 + 4\\right)^{1/2}}\n",
    "\\end{equation}\n",
    "$$"
   ]
  },
  {
   "cell_type": "markdown",
   "metadata": {},
   "source": [
    "(a) $r_0=1.0$, $b=1.5$\n",
    "\n",
    "(b) $r_0=0.2$, $b=1.5$\n",
    "\n",
    "(c) $r_0=1.0$, $b=0.1$\n",
    "\n",
    "(d) $r_0=0.2$, $b=0.1$"
   ]
  },
  {
   "cell_type": "code",
   "execution_count": 34,
   "metadata": {},
   "outputs": [],
   "source": [
    "def lc(r0,b,p,dark=False):\n",
    "    #u = np.sqrt\n",
    "    curve = (u**2+2) / (u* np.sqrt(u**2 + 4))\n",
    "    \n",
    "    if dark:\n",
    "        curve = curve * (1 - u*(1-np.sqrt(1-r0**2)))\n",
    "    return np.abs(curve)"
   ]
  },
  {
   "cell_type": "code",
   "execution_count": 30,
   "metadata": {},
   "outputs": [
    {
     "data": {
      "image/png": "[encoded data removed]",
      "text/plain": [
       "<Figure size 720x360 with 1 Axes>"
      ]
     },
     "metadata": {
      "needs_background": "light"
     },
     "output_type": "display_data"
    }
   ],
   "source": [
    "## define parameters\n",
    "r0 = [1.0,0.2,1.0,0.2]\n",
    "b = [1.5,1.5,0.1,0.1]\n",
    "p = np.linspace(-1,1,500)\n",
    "\n",
    "## plot the lightcurves\n",
    "fig, ax = plt.subplots(1,1,figsize=(10,5))\n",
    "\n",
    "for r0, b in zip(r0,b):\n",
    "    sns.lineplot(x=u, y=lc(r0=r0,b=b,u=u,dark=False),\n",
    "                 label=r'$r_0$ = {}, b = {}'.format(r0,b), ax = ax)\n",
    "fig.suptitle('Magnification vs. Distance Along Path\\n for a Point Source')\n",
    "ax.set_xlabel('Distance Along Path (p)')\n",
    "ax.set_ylabel('Magnification')\n",
    "plt.show();"
   ]
  },
  {
   "cell_type": "markdown",
   "metadata": {},
   "source": [
    "### Problem 2"
   ]
  },
  {
   "cell_type": "markdown",
   "metadata": {},
   "source": [
    "Modify to include limb darkening, given by\n",
    "\n",
    "$$\n",
    "\\begin{equation}\n",
    "I\\left(r\\right) \\propto 1 - u \\left(1- \\sqrt{1-r^2}\\right)\n",
    "\\end{equation}\n",
    "$$"
   ]
  },
  {
   "cell_type": "code",
   "execution_count": null,
   "metadata": {},
   "outputs": [],
   "source": []
  }
 ],
 "metadata": {
  "kernelspec": {
   "display_name": "Python 3.9.13 ('ast5731')",
   "language": "python",
   "name": "python3"
  },
  "language_info": {
   "codemirror_mode": {
    "name": "ipython",
    "version": 3
   },
   "file_extension": ".py",
   "mimetype": "text/x-python",
   "name": "python",
   "nbconvert_exporter": "python",
   "pygments_lexer": "ipython3",
   "version": "3.9.13"
  },
  "vscode": {
   "interpreter": {
    "hash": "48ba337186cdeb473066c6f1845eedde2b671a74890cc3a14f1c7d6e319b96ea"
   }
  }
 },
 "nbformat": 4,
 "nbformat_minor": 2
}
