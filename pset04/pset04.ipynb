{
 "cells": [
  {
   "cell_type": "markdown",
   "metadata": {},
   "source": [
    "## Problem Set 04\n",
    "### AST 8110, Fall 2022\n",
    "##### Tyler Barna"
   ]
  },
  {
   "cell_type": "code",
   "execution_count": 1,
   "metadata": {},
   "outputs": [],
   "source": [
    "## Importing packages (some of these may not be useful)\n",
    "import numpy as np\n",
    "import matplotlib.pyplot as plt\n",
    "import pandas as pd\n",
    "import seaborn as sns\n",
    "import scipy.stats as stats\n",
    "import time\n",
    "#bigstart = time.time()\n",
    "\n",
    "\n",
    "import sys\n",
    "import os\n",
    "import astropy\n",
    "import astropy.units as u\n",
    "import astropy.constants as const\n",
    "import astropy.coordinates as coord\n",
    "import random\n",
    "\n",
    "from numpy.linalg import norm ## to calculate magnitude of vector\n",
    "\n",
    "from tqdm import tqdm\n",
    "from scipy.stats import binned_statistic as binstat\n",
    "from scipy.integrate import quad, dblquad ## to integrate\n",
    "from scipy.signal import argrelextrema as extrema \n",
    "\n",
    "\n",
    "## Set Seed\n",
    "random.seed(8110)"
   ]
  },
  {
   "cell_type": "markdown",
   "metadata": {},
   "source": [
    "Consider a commonly used elliptical lensin potential that has the form\n",
    "\n",
    "$$\n",
    "\\begin{equation}\n",
    "\\Psi \\left(R\\right) = b R \\left[ 1 + \\gamma \\text{cos} \\left(2 \\theta \\right) \\right]\n",
    "\\end{equation}$$\n",
    "\n",
    "where $b$ and $\\gamma$ are constants, $\\theta$ is a polar angle in the lens plane, and $R$ is the distance in the lens plane from the lens center.\n"
   ]
  },
  {
   "cell_type": "markdown",
   "metadata": {},
   "source": [
    "### (a)\n",
    "Derive the expression for the deflection angles in x and y directions"
   ]
  },
  {
   "cell_type": "markdown",
   "metadata": {},
   "source": []
  },
  {
   "cell_type": "markdown",
   "metadata": {},
   "source": [
    "### (b)\n",
    "Derive the expression for $\\kappa$, $\\gamma_1$, and $\\gamma_2$ making sure to simplify these as much as possible. \n",
    "\n",
    "What is the relation between $\\kappa$ and $\\gamma = \\sqrt{\\gamma_1^2 + \\gamma_2^2}$?"
   ]
  },
  {
   "cell_type": "markdown",
   "metadata": {},
   "source": []
  },
  {
   "cell_type": "markdown",
   "metadata": {},
   "source": [
    "### (c)\n",
    "Find the expression for $\\text{det}\\left[ A \\right]$, the determinant of the magnification matrix, simplifying it as much as possible."
   ]
  },
  {
   "cell_type": "markdown",
   "metadata": {},
   "source": []
  },
  {
   "cell_type": "markdown",
   "metadata": {},
   "source": [
    "### (d)\n",
    "\n",
    "On the same plot, plot the critical curve and caustic for SISell using the parameter set $\\left(b,\\gamma \\right) = \\left(1, 0.05\\right)$."
   ]
  },
  {
   "cell_type": "markdown",
   "metadata": {},
   "source": []
  },
  {
   "cell_type": "markdown",
   "metadata": {},
   "source": [
    "### (e)\n",
    "\n",
    "On the same plot, plot the critical curve and caustic for SISell using the parameter set $\\left(b,\\gamma \\right) = \\left(1, 0.15\\right)$."
   ]
  },
  {
   "cell_type": "markdown",
   "metadata": {},
   "source": []
  }
 ],
 "metadata": {
  "kernelspec": {
   "display_name": "Python 3.9.12 ('base')",
   "language": "python",
   "name": "python3"
  },
  "language_info": {
   "codemirror_mode": {
    "name": "ipython",
    "version": 3
   },
   "file_extension": ".py",
   "mimetype": "text/x-python",
   "name": "python",
   "nbconvert_exporter": "python",
   "pygments_lexer": "ipython3",
   "version": "3.9.13"
  },
  "orig_nbformat": 4,
  "vscode": {
   "interpreter": {
    "hash": "33e29ac6173c1f14126815b0649af3201190059c691e9f120f2bf408a19998c9"
   }
  }
 },
 "nbformat": 4,
 "nbformat_minor": 2
}
