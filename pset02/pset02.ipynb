{
 "cells": [
  {
   "cell_type": "markdown",
   "metadata": {},
   "source": [
    "## Problem Set 02\n",
    "### AST 8110, Fall 2022\n",
    "##### Tyler Barna"
   ]
  },
  {
   "cell_type": "code",
   "execution_count": 1,
   "metadata": {},
   "outputs": [],
   "source": [
    "import time\n",
    "bigstart = time.time()\n",
    "\n",
    "## Importing packages (some of these may not be useful)\n",
    "import numpy as np\n",
    "import matplotlib.pyplot as plt\n",
    "import pandas as pd\n",
    "import seaborn as sns\n",
    "import scipy.stats as stats\n",
    "#import numba\n",
    "\n",
    "import sys\n",
    "import os\n",
    "import astropy\n",
    "import astropy.units as u\n",
    "import astropy.constants as const\n",
    "import astropy.coordinates as coord\n",
    "import random\n",
    "\n",
    "from tqdm import tqdm\n",
    "from scipy.stats import binned_statistic as binstat\n",
    "from scipy import integrate\n",
    "\n",
    "## Set Seed\n",
    "random.seed(8110)\n"
   ]
  },
  {
   "cell_type": "markdown",
   "metadata": {},
   "source": [
    "### Problem 1"
   ]
  },
  {
   "cell_type": "markdown",
   "metadata": {},
   "source": [
    "The given Equations for the angular diameter distances are\n",
    "\n",
    "$$\n",
    "\\begin{equation}\n",
    "D_A(z) = \\frac{c}{H_0} \\frac{1}{(1+z)}\\int_0^z \\frac{dz}{\\sqrt{\\Omega_{m}(1+z)^3 + \\Omega_{\\Lambda}}}\n",
    "\\end{equation}\n",
    "$$\n",
    "\n",
    "for the distance between the observer and the source ($D_{os}$) (here, $z_o=0$ and $z_s=z$), and\n",
    "\n",
    "$$\n",
    "\\begin{equation}\n",
    "D_A(z_l,z_s) = \\frac{c}{H_0} \\frac{1}{(1+z_s)}\\int_{z_l}^{z_s} \\frac{dz}{\\sqrt{\\Omega_{m}(1+z)^3 + \\Omega_{\\Lambda}}}\n",
    "\\end{equation}\n",
    "$$\n",
    "\n",
    "for the disance between the lens and the source ($D_{ls}$). The angular diameter distance between the observer and the lens ($D_{ol}$) can be found by substituting the the lens redshift for the observer redshift and the source redshift for the lens redshift in the latter equation, resulting in the expression\n",
    "\n",
    "$$\n",
    "\\begin{equation}\n",
    "D_A(z_o,z_l) = \\frac{c}{H_0} \\frac{1}{(1+z_l)}\\int_{z_o}^{z_l} \\frac{dz}{\\sqrt{\\Omega_{m}(1+z)^3 + \\Omega_{\\Lambda}}}\n",
    "\\end{equation}\n",
    "$$\n",
    "\n",
    "From lecture, the critical surface mass density is given by\n",
    "\n",
    "$$\n",
    "\\begin{equation}\n",
    "\\Sigma_{crit} = \\frac{c^2}{4\\pi G} \\frac{D_{os}}{ D_{ol} D_{sl}}\n",
    "\\end{equation}\n",
    "$$\n",
    "\n",
    "where $D_{os}$ is the angular diameter distance from the observer to the source, $D_{ol}$ is the angular diameter distance from the observer to the lens, and $D_{sl}$ is the angular diameter distance from the source to the lens. \n"
   ]
  },
  {
   "cell_type": "markdown",
   "metadata": {},
   "source": [
    "So, plugging in the other expressions, \n",
    "\n",
    "$$\n",
    "\\begin{equation}\n",
    "\\Sigma_{crit} = \\frac{c^2}{4\\pi G} \\left( \\frac{c}{H_0} \\frac{1}{(1+z_s)}\\int_0^{z_s} \\frac{dz}{\\sqrt{\\Omega_{m}(1+z)^3 + \\Omega_{\\Lambda}}} \\right)\n",
    "\\left[ \n",
    "\\left(\\frac{c}{H_0} \\frac{1}{(1+z_s)}\\int_{z_l}^{z_s} \\frac{dz}{\\sqrt{\\Omega_{m}(1+z)^3 + \\Omega_{\\Lambda}}}\\right) \n",
    "\\left( \\frac{c}{H_0} \\frac{1}{(1+z_l)}\\int_{z_o}^{z_l} \\frac{dz}{\\sqrt{\\Omega_{m}(1+z)^3 + \\Omega_{\\Lambda}}} \\right)\n",
    "\\right]^{-1}\n",
    "\\end{equation}\n",
    "$$"
   ]
  },
  {
   "cell_type": "markdown",
   "metadata": {},
   "source": [
    "Simplifyinf this in to make a still somewhat messy expression,\n",
    "$$\n",
    "\\begin{equation}\n",
    "\\Sigma_{crit} = \n",
    "\\left( \\int_0^z \\frac{dz}{\\sqrt{\\Omega_{m}(1+z)^3 + \\Omega_{\\Lambda}}} \\right)\n",
    "\\left[ \n",
    "\\left(\\int_{z_l}^{z_s} \\frac{dz}{\\sqrt{\\Omega_{m}(1+z)^3 + \\Omega_{\\Lambda}}}\\right) \n",
    "\\left(\\frac{1}{(1+z_l)}\\int_{0}^{z_l} \\frac{dz}{\\sqrt{\\Omega_{m}(1+z)^3 + \\Omega_{\\Lambda}}} \\right)\n",
    "\\right]^{-1}\n",
    "\\left[\\left(\\frac{c^2}{4\\pi G} \\right) /\\left(\\frac{c}{H_0} \\right)\\right]\n",
    "\\end{equation}\n",
    "$$\n",
    "\n",
    "But that won't come up until part b (and also we can let the computer do the full computation since it won't make a real difference in computation time)"
   ]
  },
  {
   "cell_type": "markdown",
   "metadata": {},
   "source": [
    "#### (a)"
   ]
  },
  {
   "cell_type": "code",
   "execution_count": 2,
   "metadata": {},
   "outputs": [
    {
     "data": {
      "image/png": "[encoded data removed]",
      "text/plain": [
       "<Figure size 720x576 with 1 Axes>"
      ]
     },
     "metadata": {
      "needs_background": "light"
     },
     "output_type": "display_data"
    }
   ],
   "source": [
    "## define lambda function for angular distance with omega_m = 0.3 and omega_l = 0.7 in units of c/H_0\n",
    "d_os = lambda z: 1/(1+z) * integrate.quad(lambda x: 1/np.sqrt(0.3*(1+x)**3 + 0.7), 0, z)[0]\n",
    "d_os = np.vectorize(d_os) ## allows input of array\n",
    "\n",
    "z_s = 5\n",
    "num_points = 1000\n",
    "a_range = np.linspace(0, z_s, num_points)\n",
    "\n",
    "## plot curve\n",
    "fig, ax = plt.subplots(figsize=(10, 8))\n",
    "plt.plot(a_range, d_os(a_range));\n",
    "plt.xlabel('z');\n",
    "plt.ylabel(r'$D_a  / \\left(\\frac{c}{H_0}\\right)$');\n",
    "plt.title('Angular Diameter Distance vs Redshift');\n",
    "plt.grid();\n",
    "plt.show();"
   ]
  },
  {
   "cell_type": "markdown",
   "metadata": {},
   "source": [
    "#### (b)"
   ]
  },
  {
   "cell_type": "markdown",
   "metadata": {},
   "source": [
    "From Problem:\n",
    "\n",
    "$$\n",
    "\\begin{equation}\n",
    "c^2/(4\\pi G)/(c/H_0) = 0.115 g/c^2\n",
    "\\end{equation}\n",
    "$$"
   ]
  },
  {
   "cell_type": "code",
   "execution_count": 6,
   "metadata": {},
   "outputs": [],
   "source": [
    "## define angular diameter distance in units of c/H_0 for two redshifts (the c/H0 will be handled in sigma_crit)\n",
    "d_a = lambda z1, z2: 1/(1+z2) * integrate.quad(lambda x: 1/np.sqrt(0.3*(1+x)**3 + 0.7), z1, z2)[0]\n",
    "d_a = np.vectorize(d_a) ## allows input of array"
   ]
  },
  {
   "cell_type": "code",
   "execution_count": 7,
   "metadata": {},
   "outputs": [],
   "source": [
    "## define unit constant (using astropy units)\n",
    "unit_const = 0.115 * u.g *(u.cm)**2\n",
    "\n",
    "## define sigma_crit (sigma = const * d_os / (d_ol * d_ls))\n",
    "sigma_crit = lambda z_o, z_l, z_s: unit_const * (d_a(z_o, z_s) / (d_a(z_o, z_l) * d_a(z_l, z_s)))"
   ]
  },
  {
   "cell_type": "code",
   "execution_count": 12,
   "metadata": {},
   "outputs": [
    {
     "data": {
      "image/png": "[encoded data removed]",
      "text/plain": [
       "<Figure size 720x576 with 1 Axes>"
      ]
     },
     "metadata": {
      "needs_background": "light"
     },
     "output_type": "display_data"
    }
   ],
   "source": [
    "## define redshift values\n",
    "z_o = 0 ## observer redshift\n",
    "z_l = 0.4 ## lens redshift (fixed)\n",
    "z_s = np.linspace(0.41,7,num_points) ## source redshift\n",
    "\n",
    "## plot curve\n",
    "fig, ax = plt.subplots(figsize=(10, 8))\n",
    "plt.plot(z_s, sigma_crit(z_o, z_l, z_s));\n",
    "plt.xlabel(r'$z_s$');\n",
    "plt.ylabel(r'$\\Sigma_{crit} \\ (g/cm^2)$');\n",
    "plt.title('Critical Surface Mass Density vs Source Redshift');\n",
    "plt.grid();\n",
    "plt.show();"
   ]
  },
  {
   "cell_type": "markdown",
   "metadata": {},
   "source": [
    "This seems like an odd plot, be sure to come back and check this"
   ]
  },
  {
   "cell_type": "markdown",
   "metadata": {},
   "source": [
    "#### (c)"
   ]
  },
  {
   "cell_type": "code",
   "execution_count": null,
   "metadata": {},
   "outputs": [],
   "source": []
  }
 ],
 "metadata": {
  "kernelspec": {
   "display_name": "Python 3.9.12 ('base')",
   "language": "python",
   "name": "python3"
  },
  "language_info": {
   "codemirror_mode": {
    "name": "ipython",
    "version": 3
   },
   "file_extension": ".py",
   "mimetype": "text/x-python",
   "name": "python",
   "nbconvert_exporter": "python",
   "pygments_lexer": "ipython3",
   "version": "3.9.12"
  },
  "orig_nbformat": 4,
  "vscode": {
   "interpreter": {
    "hash": "33e29ac6173c1f14126815b0649af3201190059c691e9f120f2bf408a19998c9"
   }
  }
 },
 "nbformat": 4,
 "nbformat_minor": 2
}
